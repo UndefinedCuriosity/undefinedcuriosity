{
 "cells": [
  {
   "cell_type": "code",
   "execution_count": 1,
   "metadata": {},
   "outputs": [],
   "source": [
    "import datatools\n",
    "import os"
   ]
  },
  {
   "cell_type": "code",
   "execution_count": 2,
   "metadata": {},
   "outputs": [],
   "source": [
    "file = r'C:\\Users\\jhanl\\OneDrive\\Documents\\Surface Documents\\SpringBoard\\Capstone1\\CreditCardDefault\\data\\external'\n",
    "data_file = 'UCI_Credit_Card.csv'\n",
    "data_filepath = os.path.join(file, data_file)"
   ]
  },
  {
   "cell_type": "code",
   "execution_count": 2,
   "metadata": {},
   "outputs": [],
   "source": [
    "o = datatools.DataTools(r'C:\\Users\\jhanl\\Desktop\\TestLoad.csv')"
   ]
  },
  {
   "cell_type": "code",
   "execution_count": 3,
   "metadata": {},
   "outputs": [
    {
     "data": {
      "text/plain": [
       "{'Doc': {'count': 1,\n",
       "  'similarities': [('Michael', 30),\n",
       "   ('Gen', 0),\n",
       "   ('neg', 0),\n",
       "   ('lilay', 0),\n",
       "   ('Test', 0),\n",
       "   ('Mike', 0),\n",
       "   ('Liley', 0),\n",
       "   ('Justin', 0),\n",
       "   ('Eight', 0)]},\n",
       " 'Eight': {'count': 1,\n",
       "  'similarities': [('neg', 60),\n",
       "   ('Test', 44),\n",
       "   ('Michael', 33),\n",
       "   ('Gen', 30),\n",
       "   ('Mike', 22),\n",
       "   ('lilay', 20),\n",
       "   ('Liley', 20),\n",
       "   ('Justin', 18),\n",
       "   ('Doc', 0)]},\n",
       " 'Gen': {'count': 2,\n",
       "  'similarities': [('neg', 33),\n",
       "   ('Michael', 30),\n",
       "   ('Liley', 30),\n",
       "   ('Justin', 30),\n",
       "   ('Eight', 30),\n",
       "   ('Test', 29),\n",
       "   ('Mike', 29),\n",
       "   ('lilay', 0),\n",
       "   ('Doc', 0)]},\n",
       " 'Justin': {'count': 1,\n",
       "  'similarities': [('Test', 45),\n",
       "   ('Gen', 30),\n",
       "   ('neg', 30),\n",
       "   ('Mike', 22),\n",
       "   ('lilay', 18),\n",
       "   ('Liley', 18),\n",
       "   ('Eight', 18),\n",
       "   ('Michael', 15),\n",
       "   ('Doc', 0)]},\n",
       " 'Liley': {'count': 1,\n",
       "  'similarities': [('lilay', 80),\n",
       "   ('Mike', 44),\n",
       "   ('Michael', 33),\n",
       "   ('Gen', 30),\n",
       "   ('neg', 30),\n",
       "   ('Test', 22),\n",
       "   ('Eight', 20),\n",
       "   ('Justin', 18),\n",
       "   ('Doc', 0)]},\n",
       " 'Michael': {'count': 1,\n",
       "  'similarities': [('Mike', 55),\n",
       "   ('lilay', 33),\n",
       "   ('Liley', 33),\n",
       "   ('Eight', 33),\n",
       "   ('Gen', 30),\n",
       "   ('neg', 30),\n",
       "   ('Doc', 30),\n",
       "   ('Test', 22),\n",
       "   ('Justin', 15)]},\n",
       " 'Mike': {'count': 1,\n",
       "  'similarities': [('Michael', 55),\n",
       "   ('Liley', 44),\n",
       "   ('Gen', 29),\n",
       "   ('neg', 29),\n",
       "   ('Test', 25),\n",
       "   ('lilay', 22),\n",
       "   ('Justin', 22),\n",
       "   ('Eight', 22),\n",
       "   ('Doc', 0)]},\n",
       " 'Test': {'count': 1,\n",
       "  'similarities': [('Justin', 45),\n",
       "   ('Eight', 44),\n",
       "   ('Gen', 29),\n",
       "   ('neg', 29),\n",
       "   ('Mike', 25),\n",
       "   ('Michael', 22),\n",
       "   ('Liley', 22),\n",
       "   ('lilay', 0),\n",
       "   ('Doc', 0)]},\n",
       " 'lilay': {'count': 1,\n",
       "  'similarities': [('Liley', 80),\n",
       "   ('Michael', 33),\n",
       "   ('Mike', 22),\n",
       "   ('Eight', 20),\n",
       "   ('Justin', 18),\n",
       "   ('Gen', 0),\n",
       "   ('neg', 0),\n",
       "   ('Test', 0),\n",
       "   ('Doc', 0)]},\n",
       " 'neg': {'count': 1,\n",
       "  'similarities': [('Eight', 60),\n",
       "   ('Gen', 33),\n",
       "   ('Michael', 30),\n",
       "   ('Liley', 30),\n",
       "   ('Justin', 30),\n",
       "   ('Test', 29),\n",
       "   ('Mike', 29),\n",
       "   ('lilay', 0),\n",
       "   ('Doc', 0)]}}"
      ]
     },
     "execution_count": 3,
     "metadata": {},
     "output_type": "execute_result"
    }
   ],
   "source": [
    "o.category_metrics('Col3')"
   ]
  },
  {
   "cell_type": "code",
   "execution_count": null,
   "metadata": {
    "collapsed": true
   },
   "outputs": [],
   "source": []
  }
 ],
 "metadata": {
  "kernelspec": {
   "display_name": "Python 3",
   "language": "python",
   "name": "python3"
  },
  "language_info": {
   "codemirror_mode": {
    "name": "ipython",
    "version": 3
   },
   "file_extension": ".py",
   "mimetype": "text/x-python",
   "name": "python",
   "nbconvert_exporter": "python",
   "pygments_lexer": "ipython3",
   "version": "3.6.2"
  }
 },
 "nbformat": 4,
 "nbformat_minor": 2
}
